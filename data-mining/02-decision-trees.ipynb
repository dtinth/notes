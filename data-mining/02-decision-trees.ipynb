{
 "cells": [
  {
   "cell_type": "markdown",
   "metadata": {},
   "source": [
    "This notebook is based on Assoc. Prof. Kitsana Waiyamai's lecture, _\"Data Classification & Decision Trees,\"_\n",
    "taught in 219333 course \"Data Mining.\"\n",
    "\n",
    "Python `import` Dance\n",
    "=====================\n",
    "\n",
    "Again, I need to import some stuff first.."
   ]
  },
  {
   "cell_type": "code",
   "execution_count": 2,
   "metadata": {
    "collapsed": false
   },
   "outputs": [],
   "source": [
    "from sympy import *\n",
    "from math import *\n",
    "from itertools import *\n",
    "init_printing()"
   ]
  },
  {
   "cell_type": "markdown",
   "metadata": {},
   "source": [
    "Inducing a Decision Tree\n",
    "========================\n",
    "\n",
    "Several algorithms exist for inducing a decision tree. Hunt's algorithm is one of the earliest.\n",
    "\n",
    "- __Recursive partitioning__: recursively split the records into parts to achieve maximum homogeneity within the new parts.\n",
    "- __Pruning the tree__: simplifying the tree by pruning branches to avoid overfitting.\n",
    "\n",
    "\n",
    "Impurity\n",
    "========\n",
    "\n",
    "Let's assume that all records are in the same node.\n",
    "Suppose that 50% of them are classified \"good\" and 50% of them are classified \"bad.\"\n",
    "\n",
    "_This is a bad node!_\n",
    "Since if an unseen data end up here, we can't be certain that the result will be correct.\n",
    "That's because 50% of training data in this node are good and 50% are bad.\n",
    "Our induction will be as good as a coin flip.\n",
    "This node is __impure__.\n",
    "\n",
    "Now consider a node where all records are considered \"good.\"\n",
    "When an unseen data end up at this node,\n",
    "we can be more confident that this data will also be a good one.\n",
    "\n",
    "Partitioning 'Em\n",
    "----------------\n",
    "\n",
    "So what we want to do is this:\n",
    "We want to partition the node, based on attribute values, into multiple parts.\n",
    "Then, we measure each partition's impurity.\n",
    "We combine the impurity values to obtain the split's impurity.\n",
    "Reduction of impurity represents an __information gain__.\n",
    "\n",
    "Since _there are multiple ways to split a node_ (e.g. by using different attributes),\n",
    "we try different ways of splitting nodes,\n",
    "and find which way of splitting produces the most information gain.\n",
    "That's how we should split the node."
   ]
  },
  {
   "cell_type": "markdown",
   "metadata": {},
   "source": [
    "Measuring impurity has a lot to do with proportion of different classifications.\n",
    "Here, we define a function to calculate the proportion from the number of items."
   ]
  },
  {
   "cell_type": "code",
   "execution_count": 3,
   "metadata": {
    "collapsed": false
   },
   "outputs": [
    {
     "data": {
      "image/png": "[encoded data removed]",
      "text/latex": [
       "$$\\left [ \\frac{1}{10}, \\quad \\frac{1}{5}, \\quad \\frac{3}{10}, \\quad \\frac{2}{5}\\right ]$$"
      ],
      "text/plain": [
       "[1/10, 1/5, 3/10, 2/5]"
      ]
     },
     "execution_count": 3,
     "metadata": {},
     "output_type": "execute_result"
    }
   ],
   "source": [
    "def proportions(f):\n",
    "    total = sum(f)\n",
    "    return [S(c) / total for c in f]\n",
    "\n",
    "proportions([1, 2, 3, 4])"
   ]
  },
  {
   "cell_type": "markdown",
   "metadata": {},
   "source": [
    "There are multiple ways of computing impurity.\n",
    "\n",
    "GINI Index\n",
    "----------\n",
    "\n",
    "$$ GINI(t) = 1 - \\sum_j{p(j \\:|\\: t) ^ 2} $$"
   ]
  },
  {
   "cell_type": "code",
   "execution_count": 4,
   "metadata": {
    "collapsed": false
   },
   "outputs": [],
   "source": [
    "def gini(f):\n",
    "    return N(1 - sum(p ** 2 for p in proportions(f)))"
   ]
  },
  {
   "cell_type": "code",
   "execution_count": 5,
   "metadata": {
    "collapsed": false
   },
   "outputs": [
    {
     "name": "stdout",
     "output_type": "stream",
     "text": [
      "0\n",
      "0.277777777777778\n",
      "0.444444444444444\n",
      "0.500000000000000\n",
      "0.666666666666667\n",
      "0.500000000000000\n",
      "0\n"
     ]
    }
   ],
   "source": [
    "print gini([0, 6])\n",
    "print gini([1, 5])\n",
    "print gini([2, 4])\n",
    "print gini([3, 3])\n",
    "print gini([1, 1, 1])\n",
    "print gini([1, 1, 0])\n",
    "print gini([1, 0, 0])"
   ]
  },
  {
   "cell_type": "markdown",
   "metadata": {},
   "source": [
    "Entropy\n",
    "-------\n",
    "\n",
    "$$ Entropy(t) = -\\sum_{j}p(j\\:|\\:t) \\log p(j\\:|\\:t) $$"
   ]
  },
  {
   "cell_type": "code",
   "execution_count": 6,
   "metadata": {
    "collapsed": false
   },
   "outputs": [],
   "source": [
    "def entropy(f):\n",
    "    return N(-sum(p * log(p, 2) if p > 0 else -0.0 for p in proportions(f)))"
   ]
  },
  {
   "cell_type": "code",
   "execution_count": 7,
   "metadata": {
    "collapsed": false
   },
   "outputs": [
    {
     "name": "stdout",
     "output_type": "stream",
     "text": [
      "0\n",
      "0.650022421648354\n",
      "0.918295834054490\n",
      "1.00000000000000\n",
      "1.58496250072116\n",
      "1.00000000000000\n",
      "0\n"
     ]
    }
   ],
   "source": [
    "print entropy([0, 6])\n",
    "print entropy([1, 5])\n",
    "print entropy([2, 4])\n",
    "print entropy([3, 3])\n",
    "print entropy([1, 1, 1])\n",
    "print entropy([1, 1, 0])\n",
    "print entropy([1, 0, 0])"
   ]
  },
  {
   "cell_type": "markdown",
   "metadata": {},
   "source": [
    "Let's Implement!\n",
    "================\n",
    "\n",
    "First, we list the raw data (from the slides)."
   ]
  },
  {
   "cell_type": "code",
   "execution_count": 8,
   "metadata": {
    "collapsed": false
   },
   "outputs": [],
   "source": [
    "raw_data = [\n",
    "  'sunny hot high false N',\n",
    "  'sunny hot high true N',\n",
    "  'overcast hot high false P',\n",
    "  'rain mild high false P',\n",
    "  'rain cool normal false P',\n",
    "  'rain cool normal true N',\n",
    "  'overcast cool normal true P',\n",
    "  'sunny mild high false N',\n",
    "  'sunny cool normal false P',\n",
    "  'rain mild normal false P',\n",
    "  'sunny mild normal true P',\n",
    "  'overcast mild high true P',\n",
    "  'overcast hot normal false P',\n",
    "  'rain mild high true N',\n",
    "]"
   ]
  },
  {
   "cell_type": "markdown",
   "metadata": {},
   "source": [
    "## Representing Records\n",
    "\n",
    "We will represent the record as a 2-tuple.\n",
    "\n",
    "- The first item contains the attribute values.\n",
    "- The second item contains the classification result."
   ]
  },
  {
   "cell_type": "code",
   "execution_count": 9,
   "metadata": {
    "collapsed": false
   },
   "outputs": [],
   "source": [
    "def to_record(text):\n",
    "  (outlook, temperature, humidity,\n",
    "    windy, classification) = text.split(' ')\n",
    "  return ({\n",
    "    'outlook': outlook,\n",
    "    'temperature': temperature,\n",
    "    'humidity': humidity,\n",
    "    'windy': windy\n",
    "  }, classification)"
   ]
  },
  {
   "cell_type": "code",
   "execution_count": 10,
   "metadata": {
    "collapsed": false
   },
   "outputs": [
    {
     "data": {
      "text/plain": [
       "({'humidity': 'high',\n",
       "  'outlook': 'sunny',\n",
       "  'temperature': 'hot',\n",
       "  'windy': 'false'},\n",
       " 'N')"
      ]
     },
     "execution_count": 10,
     "metadata": {},
     "output_type": "execute_result"
    }
   ],
   "source": [
    "records = map(to_record, raw_data)\n",
    "records[0]"
   ]
  },
  {
   "cell_type": "markdown",
   "metadata": {},
   "source": [
    "Metrics\n",
    "-------\n",
    "\n",
    "Let's measure the proportion of the classification."
   ]
  },
  {
   "cell_type": "code",
   "execution_count": 11,
   "metadata": {
    "collapsed": false
   },
   "outputs": [],
   "source": [
    "def data_frequency(data):\n",
    "  return [\n",
    "    sum(1 for (_, k) in data if k == 'P'),\n",
    "    sum(1 for (_, k) in data if k == 'N')]"
   ]
  },
  {
   "cell_type": "code",
   "execution_count": 12,
   "metadata": {
    "collapsed": false
   },
   "outputs": [
    {
     "data": {
      "image/png": "[encoded data removed]",
      "text/latex": [
       "$$\\left [ 9, \\quad 5\\right ]$$"
      ],
      "text/plain": [
       "[9, 5]"
      ]
     },
     "execution_count": 12,
     "metadata": {},
     "output_type": "execute_result"
    }
   ],
   "source": [
    "data_frequency(records)"
   ]
  },
  {
   "cell_type": "code",
   "execution_count": 13,
   "metadata": {
    "collapsed": false
   },
   "outputs": [],
   "source": [
    "def data_proportions(data):\n",
    "  return proportions(data_frequency(data))"
   ]
  },
  {
   "cell_type": "code",
   "execution_count": 14,
   "metadata": {
    "collapsed": false
   },
   "outputs": [
    {
     "data": {
      "image/png": "[encoded data removed]",
      "text/latex": [
       "$$\\left [ \\frac{9}{14}, \\quad \\frac{5}{14}\\right ]$$"
      ],
      "text/plain": [
       "[9/14, 5/14]"
      ]
     },
     "execution_count": 14,
     "metadata": {},
     "output_type": "execute_result"
    }
   ],
   "source": [
    "data_proportions(records)"
   ]
  },
  {
   "cell_type": "markdown",
   "metadata": {},
   "source": [
    "Now, let's measure the impurity. We'll use GINI index in this case."
   ]
  },
  {
   "cell_type": "code",
   "execution_count": 15,
   "metadata": {
    "collapsed": false
   },
   "outputs": [],
   "source": [
    "def data_impurity(data):\n",
    "  return gini(data_proportions(data))"
   ]
  },
  {
   "cell_type": "code",
   "execution_count": 16,
   "metadata": {
    "collapsed": false
   },
   "outputs": [
    {
     "data": {
      "image/png": "[encoded data removed]",
      "text/latex": [
       "$$0.459183673469388$$"
      ],
      "text/plain": [
       "0.459183673469388"
      ]
     },
     "execution_count": 16,
     "metadata": {},
     "output_type": "execute_result"
    }
   ],
   "source": [
    "data_impurity(records)"
   ]
  },
  {
   "cell_type": "markdown",
   "metadata": {},
   "source": [
    "Representing Trees\n",
    "------------------\n",
    "\n",
    "We'll write a simple class to represent a node."
   ]
  },
  {
   "cell_type": "code",
   "execution_count": 17,
   "metadata": {
    "collapsed": false
   },
   "outputs": [],
   "source": [
    "class Tree:\n",
    "  def __init__(self, data):\n",
    "    self.data = data\n",
    "    self.split = None\n",
    "    self.children = None"
   ]
  },
  {
   "cell_type": "code",
   "execution_count": 18,
   "metadata": {
    "collapsed": false
   },
   "outputs": [],
   "source": [
    "root = Tree(records)"
   ]
  },
  {
   "cell_type": "markdown",
   "metadata": {},
   "source": [
    "We also need a way of printing tree."
   ]
  },
  {
   "cell_type": "code",
   "execution_count": 19,
   "metadata": {
    "collapsed": false
   },
   "outputs": [],
   "source": [
    "def print_tree(tree, label='(root)', prefix=''):\n",
    "  if tree.split:\n",
    "    print (prefix + label + ': ' + tree.split)\n",
    "    for attr in tree.children:\n",
    "      print_tree(tree.children[attr],\n",
    "                 attr,\n",
    "                 prefix + '  ')\n",
    "  else:\n",
    "    print (prefix + label + ': ' +\n",
    "      '%s (%.3f)' % (data_frequency(tree.data),\n",
    "                     data_impurity(tree.data)))"
   ]
  },
  {
   "cell_type": "code",
   "execution_count": 20,
   "metadata": {
    "collapsed": false
   },
   "outputs": [
    {
     "name": "stdout",
     "output_type": "stream",
     "text": [
      "(root): [9, 5] (0.459)\n"
     ]
    }
   ],
   "source": [
    "print_tree(root)"
   ]
  },
  {
   "cell_type": "markdown",
   "metadata": {},
   "source": [
    "Splitting Trees\n",
    "---------------\n",
    "\n",
    "Next, we want to be able to split the tree.\n",
    "We don't worry about finding the best split yet."
   ]
  },
  {
   "cell_type": "code",
   "execution_count": 21,
   "metadata": {
    "collapsed": false
   },
   "outputs": [],
   "source": [
    "def split_tree_by(tree, attr):\n",
    "  tree.split = attr\n",
    "  children = {}\n",
    "  values = set(d[attr] for d, _ in tree.data)\n",
    "  for value in values:\n",
    "    children[value] = Tree([record\n",
    "      for record in tree.data\n",
    "        if record[0][attr] == value])\n",
    "  tree.children = children"
   ]
  },
  {
   "cell_type": "code",
   "execution_count": 22,
   "metadata": {
    "collapsed": false
   },
   "outputs": [
    {
     "name": "stdout",
     "output_type": "stream",
     "text": [
      "(root): outlook\n",
      "  overcast: [4, 0] (0.000)\n",
      "  sunny: [2, 3] (0.480)\n",
      "  rain: [3, 2] (0.480)\n"
     ]
    }
   ],
   "source": [
    "split_tree_by(root, 'outlook')\n",
    "print_tree(root)"
   ]
  },
  {
   "cell_type": "markdown",
   "metadata": {},
   "source": [
    "Measuring Split Impurity\n",
    "------------------------\n",
    "\n",
    "Simply take the weighted average of the GINI index.\n"
   ]
  },
  {
   "cell_type": "code",
   "execution_count": 23,
   "metadata": {
    "collapsed": false
   },
   "outputs": [],
   "source": [
    "def split_impurity(tree):\n",
    "  n = len(tree.data)\n",
    "  total = 0\n",
    "  for v, child in tree.children.iteritems():\n",
    "    weight = S(len(child.data)) / n\n",
    "    impurity = data_impurity(child.data)\n",
    "    total += weight * impurity\n",
    "  return total"
   ]
  },
  {
   "cell_type": "code",
   "execution_count": 24,
   "metadata": {
    "collapsed": false
   },
   "outputs": [
    {
     "data": {
      "image/png": "[encoded data removed]",
      "text/latex": [
       "$$0.342857142857143$$"
      ],
      "text/plain": [
       "0.342857142857143"
      ]
     },
     "execution_count": 24,
     "metadata": {},
     "output_type": "execute_result"
    }
   ],
   "source": [
    "split_impurity(root)"
   ]
  },
  {
   "cell_type": "markdown",
   "metadata": {},
   "source": [
    "Calculating Information Gain\n",
    "----------------------------\n",
    "\n",
    "Again, information again is the reduction of impurity."
   ]
  },
  {
   "cell_type": "code",
   "execution_count": 25,
   "metadata": {
    "collapsed": false
   },
   "outputs": [],
   "source": [
    "def split_gain(tree):\n",
    "  baseline = data_impurity(tree.data)\n",
    "  split = split_impurity(tree)\n",
    "  return baseline - split"
   ]
  },
  {
   "cell_type": "code",
   "execution_count": 26,
   "metadata": {
    "collapsed": false
   },
   "outputs": [
    {
     "data": {
      "image/png": "[encoded data removed]",
      "text/latex": [
       "$$0.116326530612245$$"
      ],
      "text/plain": [
       "0.116326530612245"
      ]
     },
     "execution_count": 26,
     "metadata": {},
     "output_type": "execute_result"
    }
   ],
   "source": [
    "split_gain(root)"
   ]
  },
  {
   "cell_type": "markdown",
   "metadata": {},
   "source": [
    "Selecting Best Attribute\n",
    "------------------------\n",
    "\n",
    "We try to split the tree using each attribute and take note of the impurity."
   ]
  },
  {
   "cell_type": "code",
   "execution_count": 27,
   "metadata": {
    "collapsed": false
   },
   "outputs": [
    {
     "name": "stdout",
     "output_type": "stream",
     "text": [
      "outlook         0.116\n",
      "temperature     0.019\n",
      "humidity        0.092\n",
      "windy           0.031\n"
     ]
    }
   ],
   "source": [
    "attributes = [\n",
    "  'outlook', 'temperature',\n",
    "  'humidity', 'windy']\n",
    "\n",
    "for attr in attributes:\n",
    "  split_tree_by(root, attr)\n",
    "  gain = split_gain(root)\n",
    "  print '%-15s %.3f' % (attr, gain)"
   ]
  },
  {
   "cell_type": "markdown",
   "metadata": {},
   "source": [
    "Here, we see that \"outlook\" is indeed the best split.\n",
    "Here's the algorithm to find the best split attribute:"
   ]
  },
  {
   "cell_type": "code",
   "execution_count": 28,
   "metadata": {
    "collapsed": false
   },
   "outputs": [],
   "source": [
    "def try_split(tree, attr):\n",
    "  split_tree_by(tree, attr)\n",
    "  return split_gain(tree)\n",
    "    \n",
    "def best_split_attribute(tree):\n",
    "  gain = lambda attr: try_split(tree, attr)\n",
    "  return max(attributes, key=gain)"
   ]
  },
  {
   "cell_type": "code",
   "execution_count": 29,
   "metadata": {
    "collapsed": false
   },
   "outputs": [
    {
     "data": {
      "text/plain": [
       "'outlook'"
      ]
     },
     "execution_count": 29,
     "metadata": {},
     "output_type": "execute_result"
    }
   ],
   "source": [
    "best_split_attribute(root)"
   ]
  },
  {
   "cell_type": "markdown",
   "metadata": {},
   "source": [
    "Finally, the algorithm to split the tree using that best attribute.\n",
    "Note that if the node is \"pure\", then we don't need further split."
   ]
  },
  {
   "cell_type": "code",
   "execution_count": 30,
   "metadata": {
    "collapsed": false
   },
   "outputs": [],
   "source": [
    "def split_tree(tree):\n",
    "  if data_impurity(tree.data) == 0:\n",
    "    return False\n",
    "  else:\n",
    "    split_tree_by(tree,\n",
    "      best_split_attribute(tree))\n",
    "    return True"
   ]
  },
  {
   "cell_type": "code",
   "execution_count": 31,
   "metadata": {
    "collapsed": false
   },
   "outputs": [
    {
     "data": {
      "text/plain": [
       "True"
      ]
     },
     "execution_count": 31,
     "metadata": {},
     "output_type": "execute_result"
    }
   ],
   "source": [
    "split_tree(root)"
   ]
  },
  {
   "cell_type": "code",
   "execution_count": 32,
   "metadata": {
    "collapsed": false
   },
   "outputs": [
    {
     "name": "stdout",
     "output_type": "stream",
     "text": [
      "(root): outlook\n",
      "  overcast: [4, 0] (0.000)\n",
      "  sunny: [2, 3] (0.480)\n",
      "  rain: [3, 2] (0.480)\n"
     ]
    }
   ],
   "source": [
    "print_tree(root)"
   ]
  },
  {
   "cell_type": "markdown",
   "metadata": {},
   "source": [
    "Recursive Partitioning\n",
    "----------------------\n",
    "\n",
    "So we recursively split the tree until we can't split them anymore."
   ]
  },
  {
   "cell_type": "code",
   "execution_count": 33,
   "metadata": {
    "collapsed": false
   },
   "outputs": [],
   "source": [
    "def recursive_split(tree):\n",
    "  if split_tree(tree):\n",
    "    for attr in tree.children:\n",
    "      recursive_split(tree.children[attr])"
   ]
  },
  {
   "cell_type": "code",
   "execution_count": 34,
   "metadata": {
    "collapsed": false
   },
   "outputs": [],
   "source": [
    "recursive_split(root)"
   ]
  },
  {
   "cell_type": "code",
   "execution_count": 35,
   "metadata": {
    "collapsed": false
   },
   "outputs": [
    {
     "name": "stdout",
     "output_type": "stream",
     "text": [
      "(root): outlook\n",
      "  overcast: [4, 0] (0.000)\n",
      "  sunny: humidity\n",
      "    high: [0, 3] (0.000)\n",
      "    normal: [2, 0] (0.000)\n",
      "  rain: windy\n",
      "    false: [3, 0] (0.000)\n",
      "    true: [0, 2] (0.000)\n"
     ]
    }
   ],
   "source": [
    "print_tree(root)"
   ]
  },
  {
   "cell_type": "markdown",
   "metadata": {},
   "source": [
    "Pruning\n",
    "=======\n",
    "\n",
    "Since I have only 1 hour left before the exam, I'll only describe briefly.\n",
    "\n",
    "- __Pre-pruning__: stop splitting recursively, even if the node is impure.\n",
    "  - number of instances too low (insignificant)\n",
    "  - $\\chi^2$ test\n",
    "- __Post-pruning__: trim the nodes after the tree is fully grown."
   ]
  },
  {
   "cell_type": "markdown",
   "metadata": {},
   "source": [
    "Evaluation\n",
    "==========\n",
    "\n",
    "Given $TP$, $TN$, $FP$, $FN$\n",
    "\n",
    "$$ \\text{Accuracy} = \\frac{TP+TN}{TP+TN+FP+FN} $$\n",
    "\n",
    "$$ \\text{TPR} = \\frac{TP}{TP+FN} $$\n",
    "\n",
    "TPR (true positive rate) is also known as _Sensitivity_ and _Recall_.\n",
    "\n",
    "$$ \\text{PPV} = \\frac{TP}{TP+FP} $$\n",
    "\n",
    "PPV (positive prediction value) is also known as _Precision_."
   ]
  }
 ],
 "metadata": {
  "kernelspec": {
   "display_name": "Python 2",
   "language": "python",
   "name": "python2"
  },
  "language_info": {
   "codemirror_mode": {
    "name": "ipython",
    "version": 2
   },
   "file_extension": ".py",
   "mimetype": "text/x-python",
   "name": "python",
   "nbconvert_exporter": "python",
   "pygments_lexer": "ipython2",
   "version": "2.7.8"
  }
 },
 "nbformat": 4,
 "nbformat_minor": 0
}
