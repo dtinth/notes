{
 "cells": [
  {
   "cell_type": "markdown",
   "metadata": {},
   "source": [
    "This document is generated from an IPython Notebook session.\n",
    "The content is based on a data mining lecture slide _\"Association Rule Discovery: Apriori Algorithm\"_ by Assoc. Prof. Kitsana Waiyamai, Ph.D., which is in turn based on Tan, Steinbach, Kumar slides.\n",
    "\n",
    "Introduction\n",
    "============\n",
    "\n",
    "\\*ahem, ahem\\* first, please let me import some Python modules."
   ]
  },
  {
   "cell_type": "code",
   "execution_count": 1,
   "metadata": {
    "collapsed": false
   },
   "outputs": [],
   "source": [
    "from sympy import *\n",
    "from itertools import *\n",
    "init_printing()"
   ]
  },
  {
   "cell_type": "markdown",
   "metadata": {},
   "source": [
    "I also want to generate k-subsets from a given set."
   ]
  },
  {
   "cell_type": "code",
   "execution_count": 2,
   "metadata": {
    "collapsed": false
   },
   "outputs": [],
   "source": [
    "def subsets(S, k):\n",
    "  return [set(s)\n",
    "    for s in combinations(S, k)]"
   ]
  },
  {
   "cell_type": "code",
   "execution_count": 3,
   "metadata": {
    "collapsed": false
   },
   "outputs": [
    {
     "data": {
      "image/png": "[encoded data removed]",
      "text/latex": [
       "$$\\left [ \\left\\{1, 2\\right\\}, \\quad \\left\\{1, 3\\right\\}, \\quad \\left\\{2, 3\\right\\}\\right ]$$"
      ],
      "text/plain": [
       "[set([1, 2]), set([1, 3]), set([2, 3])]"
      ]
     },
     "execution_count": 3,
     "metadata": {},
     "output_type": "execute_result"
    }
   ],
   "source": [
    "subsets({1, 2, 3}, 2)"
   ]
  },
  {
   "cell_type": "markdown",
   "metadata": {},
   "source": [
    "And sometimes I want to print a list, each on its own line:"
   ]
  },
  {
   "cell_type": "code",
   "execution_count": 4,
   "metadata": {
    "collapsed": false
   },
   "outputs": [],
   "source": [
    "def print_all(iterable):\n",
    "  for item in iterable:\n",
    "    print item"
   ]
  },
  {
   "cell_type": "code",
   "execution_count": 5,
   "metadata": {
    "collapsed": false
   },
   "outputs": [
    {
     "name": "stdout",
     "output_type": "stream",
     "text": [
      "1\n",
      "2\n",
      "3\n"
     ]
    }
   ],
   "source": [
    "print_all([1, 2, 3])"
   ]
  },
  {
   "cell_type": "markdown",
   "metadata": {},
   "source": [
    "Yes, it's working! Now, let's come back to __association rule mining__."
   ]
  },
  {
   "cell_type": "markdown",
   "metadata": {},
   "source": [
    "In association rule mining, we try to discover rules based on item sets.\n",
    "\n",
    "Our input data is a list of _transactions_. Each transaction contains a set of items (called an _itemset_).\n",
    "For example, this table represents the set of items bought by a customer in a single transaction:\n",
    "\n",
    "| TID | Items |\n",
    "| --- | ----- |\n",
    "| 1 | Bread, Milk |\n",
    "| 2 | Bread, Diaper, Beer, Eggs |\n",
    "| 3 | Milk, Diaper, Beer, Coke |\n",
    "| 4 | Bread, Milk, Diaper, Beer |\n",
    "| 4 | Bread, Milk, Diaper, Coke |"
   ]
  },
  {
   "cell_type": "code",
   "execution_count": 6,
   "metadata": {
    "collapsed": false
   },
   "outputs": [],
   "source": [
    "T = [\n",
    " {'Bread', 'Milk'},\n",
    " {'Beer', 'Bread', 'Diaper', 'Eggs'},\n",
    " {'Berr', 'Coke', 'Diaper', 'Milk'},\n",
    " {'Beer', 'Bread', 'Diaper', 'Milk'},\n",
    " {'Bread', 'Coke', 'Diaper', 'Milk'},\n",
    "]"
   ]
  },
  {
   "cell_type": "markdown",
   "metadata": {},
   "source": [
    "We use them to find association rules, such as:\n",
    "\n",
    "$$ \\{\\text{Milk}, \\text{Bread}\\} \\Rightarrow \\{\\text{Eggs}, \\text{Coke}\\} $$\n",
    "\n",
    "Which means that if a customer buys Milk and Bread, it is likely that they will buy Eggs and Coke as well."
   ]
  },
  {
   "cell_type": "markdown",
   "metadata": {},
   "source": [
    "Itemsets\n",
    "========\n",
    "\n",
    "An _itemset_ is simply a set of items, such as $\\{ \\text{Milk}, \\text{Bread}, \\text{Eggs} \\}$.\n",
    "\n",
    "The frequency of occurrence of an _itemset_ is called support count.\n",
    "\n",
    "$$ \\sigma(X) = \\|\\{ x \\in T \\:|\\: X \\subseteq x \\}\\| $$"
   ]
  },
  {
   "cell_type": "code",
   "execution_count": 7,
   "metadata": {
    "collapsed": false
   },
   "outputs": [],
   "source": [
    "def support_count(X):\n",
    "  return S(sum(1 for x in T if X <= x))"
   ]
  },
  {
   "cell_type": "code",
   "execution_count": 8,
   "metadata": {
    "collapsed": false
   },
   "outputs": [
    {
     "data": {
      "image/png": "[encoded data removed]",
      "text/latex": [
       "$$2$$"
      ],
      "text/plain": [
       "2"
      ]
     },
     "execution_count": 8,
     "metadata": {},
     "output_type": "execute_result"
    }
   ],
   "source": [
    "support_count({'Milk', 'Bread', 'Diaper'})"
   ]
  },
  {
   "cell_type": "markdown",
   "metadata": {},
   "source": [
    "Support is the _proportion_ of transactions that contain an itemset.\n",
    "\n",
    "$$ s(X) = \\frac{\\sigma(X)}{\\|\\text{T}\\|} $$"
   ]
  },
  {
   "cell_type": "code",
   "execution_count": 9,
   "metadata": {
    "collapsed": false
   },
   "outputs": [],
   "source": [
    "def support(X):\n",
    "  return support_count(X) / len(T)"
   ]
  },
  {
   "cell_type": "code",
   "execution_count": 10,
   "metadata": {
    "collapsed": false
   },
   "outputs": [
    {
     "data": {
      "image/png": "[encoded data removed]",
      "text/latex": [
       "$$\\frac{2}{5}$$"
      ],
      "text/plain": [
       "2/5"
      ]
     },
     "execution_count": 10,
     "metadata": {},
     "output_type": "execute_result"
    }
   ],
   "source": [
    "support({'Milk', 'Bread', 'Diaper'})"
   ]
  },
  {
   "cell_type": "markdown",
   "metadata": {},
   "source": [
    "If the _support_ is higher than a given ratio, it is called a _frequent itemset_."
   ]
  },
  {
   "cell_type": "markdown",
   "metadata": {},
   "source": [
    "Rules\n",
    "=====\n",
    "\n",
    "A rule is in form of $X \\Rightarrow Y$ where $X$ and $Y$ are itemsets. For example:\n",
    "\n",
    "$$ \\{ \\text{Milk}, \\text{Diaper} \\} \\Rightarrow \\{ \\text{Beer} \\} $$"
   ]
  },
  {
   "cell_type": "code",
   "execution_count": 11,
   "metadata": {
    "collapsed": false
   },
   "outputs": [],
   "source": [
    "rule = ({'Milk', 'Diaper'}, {'Beer'})"
   ]
  },
  {
   "cell_type": "markdown",
   "metadata": {},
   "source": [
    "The _support_ of the rule is the fraction of transactions that contain both $X$ and $Y$.\n",
    "\n",
    "$$ s(X \\Rightarrow Y) = s(X \\cup Y) $$"
   ]
  },
  {
   "cell_type": "code",
   "execution_count": 12,
   "metadata": {
    "collapsed": false
   },
   "outputs": [],
   "source": [
    "def rule_support((x, y)):\n",
    "  return support(x | y)"
   ]
  },
  {
   "cell_type": "code",
   "execution_count": 13,
   "metadata": {
    "collapsed": false
   },
   "outputs": [
    {
     "data": {
      "image/png": "[encoded data removed]",
      "text/latex": [
       "$$\\frac{1}{5}$$"
      ],
      "text/plain": [
       "1/5"
      ]
     },
     "execution_count": 13,
     "metadata": {},
     "output_type": "execute_result"
    }
   ],
   "source": [
    "rule_support(rule)"
   ]
  },
  {
   "cell_type": "markdown",
   "metadata": {},
   "source": [
    "The _confidence_ of the rule tells you how many transactions that contains $X$ also contains $Y$ (in form of proportion).\n",
    "\n",
    "$$ c(X \\Rightarrow Y) = \\frac{\\sigma(X \\cup Y)}{\\sigma(X)} \\left(= \\frac{s(X \\Rightarrow Y)}{s(X)}\\right) $$"
   ]
  },
  {
   "cell_type": "code",
   "execution_count": 14,
   "metadata": {
    "collapsed": false
   },
   "outputs": [],
   "source": [
    "def rule_confidence((x, y)):\n",
    "  return (support_count(x | y)\n",
    "        / support_count(x))"
   ]
  },
  {
   "cell_type": "code",
   "execution_count": 15,
   "metadata": {
    "collapsed": false
   },
   "outputs": [
    {
     "data": {
      "image/png": "[encoded data removed]",
      "text/latex": [
       "$$\\frac{1}{3}$$"
      ],
      "text/plain": [
       "1/3"
      ]
     },
     "execution_count": 15,
     "metadata": {},
     "output_type": "execute_result"
    }
   ],
   "source": [
    "rule_confidence(rule)"
   ]
  },
  {
   "cell_type": "markdown",
   "metadata": {},
   "source": [
    "Association Rule Mining\n",
    "=======================\n",
    "\n",
    "In association rule mining, we want to find all rules that has enough _support_ and _confidence_. In other words, we want to find $\\{ X \\Rightarrow Y \\:|\\: s(X \\Rightarrow Y) > s_{min}, c(X \\Rightarrow Y) > c_{min} \\}$.\n",
    "\n",
    "We are using 2-step approach:\n",
    "\n",
    "- First, finding frequent itemsets with enough support.\n",
    "    - For example, $\\{A, B, C\\}$\n",
    "- Then, generate rules from these itemsets.\n",
    "    - We can generate rules by finding binary partitions of a given itemset.\n",
    "    - For example, from $\\{A, B, C\\}$, we can generate 6 rules:\n",
    "    - Note that support of these rules are all the same.\n",
    "    - We then select only the rules with enough confidence.\n",
    "        - $\\{A\\} \\Rightarrow \\{C,B\\}$\n",
    "        - $\\{C\\} \\Rightarrow \\{A,B\\}$\n",
    "        - $\\{B\\} \\Rightarrow \\{A,C\\}$\n",
    "        - $\\{A,C\\} \\Rightarrow \\{B\\}$\n",
    "        - $\\{A,B\\} \\Rightarrow \\{C\\}$\n",
    "        - $\\{C,B\\} \\Rightarrow \\{A\\}$\n",
    "\n",
    "Let's forget about finding frequent itemsets for now; let's assume it hath been given unto us.\n",
    "\n",
    "For clarity and brevity, I'll just use the dataset from the instructor's slides."
   ]
  },
  {
   "cell_type": "code",
   "execution_count": 16,
   "metadata": {
    "collapsed": false
   },
   "outputs": [],
   "source": [
    "T = [\n",
    " {'A', 'B', 'E'},\n",
    " {'B', 'D'},\n",
    " {'B', 'C'},\n",
    " {'A', 'B', 'D'},\n",
    " {'A', 'C'},\n",
    " {'B', 'C'},\n",
    " {'A', 'C'},\n",
    " {'A', 'B', 'C', 'E'},\n",
    " {'A', 'B', 'C'},\n",
    "]\n",
    "\n",
    "cmin = 0.5"
   ]
  },
  {
   "cell_type": "markdown",
   "metadata": {},
   "source": [
    "Given a Frequent Itemset\n",
    "------------------------\n",
    "\n",
    "We can use a naive algorithm:"
   ]
  },
  {
   "cell_type": "code",
   "execution_count": 17,
   "metadata": {
    "collapsed": false
   },
   "outputs": [],
   "source": [
    "# frequent itemset `l`\n",
    "def find_rules(l):\n",
    "  rules = []\n",
    "  for n in range(1, len(l)):\n",
    "    for c in subsets(l, n):\n",
    "      rule = (set(c), l - set(c))\n",
    "      if rule_confidence(rule) >= cmin:\n",
    "        rules.append(rule)\n",
    "  return rules"
   ]
  },
  {
   "cell_type": "markdown",
   "metadata": {},
   "source": [
    "It just tries all \"binary partitions\" of the frequent itemset `l`, and only emits rules with enough confidence."
   ]
  },
  {
   "cell_type": "code",
   "execution_count": 18,
   "metadata": {
    "collapsed": false
   },
   "outputs": [
    {
     "data": {
      "text/plain": [
       "[(({'E'}, {'A', 'B'}), 1),\n",
       " (({'A', 'B'}, {'E'}), 1/2),\n",
       " (({'A', 'E'}, {'B'}), 1),\n",
       " (({'B', 'E'}, {'A'}), 1)]"
      ]
     },
     "execution_count": 18,
     "metadata": {},
     "output_type": "execute_result"
    }
   ],
   "source": [
    "[(rule, rule_confidence(rule))\n",
    "  for rule in find_rules({'A', 'B', 'E'})]"
   ]
  },
  {
   "cell_type": "markdown",
   "metadata": {},
   "source": [
    "Without a Frequent Itemset\n",
    "--------------------------\n",
    "\n",
    "Now, recall about having to find the frequent itemsets. What should we do?\n",
    "\n",
    "For a large dataset, this is impractical. To find all the candidates, we must try all subsets of all items!\n",
    "If we have $d$ items, the number of subsets become $2^d$.\n",
    "See how fast it grows!\n",
    "What can we do to help?"
   ]
  },
  {
   "cell_type": "markdown",
   "metadata": {},
   "source": [
    "Apriori Principle\n",
    "-----------------\n",
    "\n",
    "You know, given that $A \\subseteq B$, then $C \\subseteq B$ as well if $C \\subseteq B$.\n",
    "It is also obvious that if $A \\subseteq B$, $s(A) \\geq s(B)$, since every item in $A$ also appear in $B$.\n",
    "\n",
    "Apriori priciple says:\n",
    "_\"If an itemset is frequent, then all of its subsets must also be frequent.\"_\n",
    "\n",
    "From that, we know that if an itemset is _infrequent_, all its supersets are also infrequent.\n",
    "\n",
    "Again, let's use the example from the slides."
   ]
  },
  {
   "cell_type": "code",
   "execution_count": 19,
   "metadata": {
    "collapsed": false
   },
   "outputs": [],
   "source": [
    "T = [\n",
    "  {'A', 'C', 'D'},\n",
    "  {'B', 'C', 'E'},\n",
    "  {'A', 'B', 'C', 'E'},\n",
    "  {'B', 'E'},\n",
    "  {'A', 'B', 'C', 'E'}\n",
    "]\n",
    "\n",
    "smin = 0.4"
   ]
  },
  {
   "cell_type": "markdown",
   "metadata": {},
   "source": [
    "\n",
    "### Starting Small\n",
    "\n",
    "So here's our approach.\n",
    "\n",
    "- First, we find all frequent itemsets of size 1 (called _frequent 1-itemsets_).\n",
    "- Next, we \"prune\" itemsets whose support is too low.\n",
    "- Then, we generate frequent _2_-itemsets from the remaining 1-itemsets.\n",
    "- Again, we \"prune\" itemsets whose support is too low.\n",
    "- Increase the size and repeat.\n"
   ]
  },
  {
   "cell_type": "markdown",
   "metadata": {},
   "source": [
    "### Generating Frequent 1-itemsets\n",
    "\n",
    "First, let's generate frequent 1-itemsets.\n",
    "Before that, I will create a function to union multiple sets."
   ]
  },
  {
   "cell_type": "code",
   "execution_count": 20,
   "metadata": {
    "collapsed": false
   },
   "outputs": [],
   "source": [
    "def union_all(sets):\n",
    "  \"\"\"Finds the union of given sets.\"\"\"\n",
    "  result = set()\n",
    "  for c in sets:\n",
    "    result = result | c\n",
    "  return result"
   ]
  },
  {
   "cell_type": "code",
   "execution_count": 21,
   "metadata": {
    "collapsed": false
   },
   "outputs": [
    {
     "data": {
      "image/png": "[encoded data removed]",
      "text/latex": [
       "$$\\left\\{1, 2, 3\\right\\}$$"
      ],
      "text/plain": [
       "set([1, 2, 3])"
      ]
     },
     "execution_count": 21,
     "metadata": {},
     "output_type": "execute_result"
    }
   ],
   "source": [
    "union_all([{1, 2}, {2, 3}])"
   ]
  },
  {
   "cell_type": "code",
   "execution_count": 22,
   "metadata": {
    "collapsed": false
   },
   "outputs": [
    {
     "data": {
      "image/png": "[encoded data removed]",
      "text/latex": [
       "$$\\left\\{\\right\\}$$"
      ],
      "text/plain": [
       "set([])"
      ]
     },
     "execution_count": 22,
     "metadata": {},
     "output_type": "execute_result"
    }
   ],
   "source": [
    "union_all([])"
   ]
  },
  {
   "cell_type": "markdown",
   "metadata": {},
   "source": [
    "Now, some code to find frequent 1-itemsets:"
   ]
  },
  {
   "cell_type": "code",
   "execution_count": 23,
   "metadata": {
    "collapsed": false
   },
   "outputs": [],
   "source": [
    "def frequent_1():\n",
    "  items = union_all(T)\n",
    "  return [{item}\n",
    "    for item in items\n",
    "      if support({item}) >= smin]"
   ]
  },
  {
   "cell_type": "code",
   "execution_count": 24,
   "metadata": {
    "collapsed": false
   },
   "outputs": [
    {
     "data": {
      "text/plain": [
       "[{'A'}, {'C'}, {'B'}, {'E'}]"
      ]
     },
     "execution_count": 24,
     "metadata": {},
     "output_type": "execute_result"
    }
   ],
   "source": [
    "L1 = frequent_1()\n",
    "L1"
   ]
  },
  {
   "cell_type": "markdown",
   "metadata": {},
   "source": [
    "As you see, \"D\" is eliminated from the candidates.\n",
    "That means any itemset with \"D\" in it will not be frequent enough."
   ]
  },
  {
   "cell_type": "markdown",
   "metadata": {},
   "source": [
    "### Expanding It\n",
    "\n",
    "Next, we generate frequent 2-itemsets from 1-itemsets.\n",
    "The easiest way to do it is to put these items together and select 2 items. First, we put them together:"
   ]
  },
  {
   "cell_type": "code",
   "execution_count": 25,
   "metadata": {
    "collapsed": false
   },
   "outputs": [
    {
     "data": {
      "text/plain": [
       "{'A', 'B', 'C', 'E'}"
      ]
     },
     "execution_count": 25,
     "metadata": {},
     "output_type": "execute_result"
    }
   ],
   "source": [
    "union_all(L1)"
   ]
  },
  {
   "cell_type": "code",
   "execution_count": 26,
   "metadata": {
    "collapsed": false
   },
   "outputs": [
    {
     "name": "stdout",
     "output_type": "stream",
     "text": [
      "set(['A', 'C'])\n",
      "set(['A', 'B'])\n",
      "set(['A', 'E'])\n",
      "set(['C', 'B'])\n",
      "set(['C', 'E'])\n",
      "set(['B', 'E'])\n"
     ]
    }
   ],
   "source": [
    "C2 = subsets(_, 2)\n",
    "print_all(C2)"
   ]
  },
  {
   "cell_type": "markdown",
   "metadata": {},
   "source": [
    "These are the candidate itemsets. But maybe... not all of them are frequent enough."
   ]
  },
  {
   "cell_type": "markdown",
   "metadata": {},
   "source": [
    "Now, for each candidate $c$ in `C2`,\n",
    "we must make sure at all of $c$'s 1-subset is in `L1`.\n",
    "Why? If one of $c$'s subset (let's call it $s$) is not in `L1`,\n",
    "it means that that $s$ has already been pruned, because $s$ is not frequent enough.\n",
    "Since $c$ is a superset of $s$, $c$ will also not be frequent enough."
   ]
  },
  {
   "cell_type": "code",
   "execution_count": 27,
   "metadata": {
    "collapsed": false
   },
   "outputs": [],
   "source": [
    "def good_candidate(c, P):\n",
    "  for s in subsets(c, len(c) - 1):\n",
    "    if s not in P: return false\n",
    "  return True"
   ]
  },
  {
   "cell_type": "code",
   "execution_count": 28,
   "metadata": {
    "collapsed": false
   },
   "outputs": [
    {
     "name": "stdout",
     "output_type": "stream",
     "text": [
      "set(['A', 'C'])\n",
      "set(['A', 'B'])\n",
      "set(['A', 'E'])\n",
      "set(['C', 'B'])\n",
      "set(['C', 'E'])\n",
      "set(['B', 'E'])\n"
     ]
    }
   ],
   "source": [
    "F2 = [c for c in C2 if good_candidate(c, L1)]\n",
    "print_all(F2)"
   ]
  },
  {
   "cell_type": "markdown",
   "metadata": {},
   "source": [
    "Well, it seems that every candidate is a good one. Anyway, now we have the finalists!\n",
    "For the final round, you might have guessed it:\n",
    "We simply check the support to see if each item set is frequent enough!"
   ]
  },
  {
   "cell_type": "code",
   "execution_count": 29,
   "metadata": {
    "collapsed": false
   },
   "outputs": [
    {
     "name": "stdout",
     "output_type": "stream",
     "text": [
      "set(['A', 'C'])\n",
      "set(['A', 'B'])\n",
      "set(['A', 'E'])\n",
      "set(['C', 'B'])\n",
      "set(['C', 'E'])\n",
      "set(['B', 'E'])\n"
     ]
    }
   ],
   "source": [
    "L2 = [f for f in F2 if support(f) >= smin]\n",
    "print_all(L2)"
   ]
  },
  {
   "cell_type": "markdown",
   "metadata": {},
   "source": [
    "Again, all of them are frequent enough! So, now we have the 2-itemsets."
   ]
  },
  {
   "cell_type": "markdown",
   "metadata": {},
   "source": [
    "### Moving On"
   ]
  },
  {
   "cell_type": "markdown",
   "metadata": {},
   "source": [
    "Now, let's generate `L3`."
   ]
  },
  {
   "cell_type": "code",
   "execution_count": 30,
   "metadata": {
    "collapsed": false
   },
   "outputs": [],
   "source": [
    "def generate_candidates(P, k):\n",
    "  return subsets(union_all(P), k)"
   ]
  },
  {
   "cell_type": "code",
   "execution_count": 31,
   "metadata": {
    "collapsed": false
   },
   "outputs": [
    {
     "name": "stdout",
     "output_type": "stream",
     "text": [
      "set(['A', 'C', 'B'])\n",
      "set(['A', 'C', 'E'])\n",
      "set(['A', 'B', 'E'])\n",
      "set(['C', 'B', 'E'])\n"
     ]
    }
   ],
   "source": [
    "C3 = generate_candidates(L2, 3)\n",
    "print_all(C3)"
   ]
  },
  {
   "cell_type": "code",
   "execution_count": 32,
   "metadata": {
    "collapsed": false
   },
   "outputs": [
    {
     "name": "stdout",
     "output_type": "stream",
     "text": [
      "set(['A', 'C', 'B'])\n",
      "set(['A', 'C', 'E'])\n",
      "set(['A', 'B', 'E'])\n",
      "set(['C', 'B', 'E'])\n"
     ]
    }
   ],
   "source": [
    "F3 = [c for c in C3\n",
    "         if good_candidate(c, L2)]\n",
    "print_all(F3)"
   ]
  },
  {
   "cell_type": "code",
   "execution_count": 33,
   "metadata": {
    "collapsed": false
   },
   "outputs": [
    {
     "name": "stdout",
     "output_type": "stream",
     "text": [
      "set(['A', 'C', 'B'])\n",
      "set(['A', 'C', 'E'])\n",
      "set(['A', 'B', 'E'])\n",
      "set(['C', 'B', 'E'])\n"
     ]
    }
   ],
   "source": [
    "L3 = [f for f in F3\n",
    "         if support(f) >= smin]\n",
    "print_all(L3)"
   ]
  },
  {
   "cell_type": "markdown",
   "metadata": {},
   "source": [
    "### Generalizing It\n",
    "\n",
    "We can turn the above steps into this function:"
   ]
  },
  {
   "cell_type": "code",
   "execution_count": 34,
   "metadata": {
    "collapsed": false
   },
   "outputs": [],
   "source": [
    "def frequent_k(P, k):\n",
    "  C = generate_candidates(P, k)\n",
    "  F = [c for c in C if good_candidate(c, P)]\n",
    "  return [f for f in F if support(f) >= smin]"
   ]
  },
  {
   "cell_type": "markdown",
   "metadata": {},
   "source": [
    "We then use that function to generate `L4`."
   ]
  },
  {
   "cell_type": "code",
   "execution_count": 35,
   "metadata": {
    "collapsed": false
   },
   "outputs": [
    {
     "data": {
      "text/plain": [
       "[{'A', 'B', 'C', 'E'}]"
      ]
     },
     "execution_count": 35,
     "metadata": {},
     "output_type": "execute_result"
    }
   ],
   "source": [
    "L4 = frequent_k(L3, 4)\n",
    "L4"
   ]
  },
  {
   "cell_type": "markdown",
   "metadata": {},
   "source": [
    "Finally, generating `L5` will return no itemsets, which concludes the Apriori algorithm:"
   ]
  },
  {
   "cell_type": "code",
   "execution_count": 36,
   "metadata": {
    "collapsed": false
   },
   "outputs": [
    {
     "data": {
      "image/png": "[encoded data removed]",
      "text/latex": [
       "$$\\left [ \\right ]$$"
      ],
      "text/plain": [
       "[]"
      ]
     },
     "execution_count": 36,
     "metadata": {},
     "output_type": "execute_result"
    }
   ],
   "source": [
    "L5 = frequent_k(L4, 5)\n",
    "L5"
   ]
  },
  {
   "cell_type": "markdown",
   "metadata": {},
   "source": [
    "Putting It Together\n",
    "-------------------\n",
    "\n",
    "We take all the previous answers to find the frequent itemsets!"
   ]
  },
  {
   "cell_type": "code",
   "execution_count": 37,
   "metadata": {
    "collapsed": false
   },
   "outputs": [
    {
     "data": {
      "text/plain": [
       "[{'A'},\n",
       " {'C'},\n",
       " {'B'},\n",
       " {'E'},\n",
       " {'A', 'C'},\n",
       " {'A', 'B'},\n",
       " {'A', 'E'},\n",
       " {'B', 'C'},\n",
       " {'C', 'E'},\n",
       " {'B', 'E'},\n",
       " {'A', 'B', 'C'},\n",
       " {'A', 'C', 'E'},\n",
       " {'A', 'B', 'E'},\n",
       " {'B', 'C', 'E'},\n",
       " {'A', 'B', 'C', 'E'}]"
      ]
     },
     "execution_count": 37,
     "metadata": {},
     "output_type": "execute_result"
    }
   ],
   "source": [
    "L1 + L2 + L3 + L4 + L5"
   ]
  },
  {
   "cell_type": "markdown",
   "metadata": {},
   "source": [
    "Summing It Up\n",
    "-------------\n",
    "\n",
    "Finally, here's the apriori algorithm!"
   ]
  },
  {
   "cell_type": "code",
   "execution_count": 38,
   "metadata": {
    "collapsed": false
   },
   "outputs": [],
   "source": [
    "def apriori():\n",
    "  result = []\n",
    "  L = frequent_1()\n",
    "  k = 1\n",
    "  while len(L) > 0:\n",
    "    result += L\n",
    "    k += 1\n",
    "    L = frequent_k(L, k)\n",
    "  return result"
   ]
  },
  {
   "cell_type": "code",
   "execution_count": 39,
   "metadata": {
    "collapsed": false
   },
   "outputs": [
    {
     "data": {
      "text/plain": [
       "[{'A'},\n",
       " {'C'},\n",
       " {'B'},\n",
       " {'E'},\n",
       " {'A', 'C'},\n",
       " {'A', 'B'},\n",
       " {'A', 'E'},\n",
       " {'B', 'C'},\n",
       " {'C', 'E'},\n",
       " {'B', 'E'},\n",
       " {'A', 'B', 'C'},\n",
       " {'A', 'C', 'E'},\n",
       " {'A', 'B', 'E'},\n",
       " {'B', 'C', 'E'},\n",
       " {'A', 'B', 'C', 'E'}]"
      ]
     },
     "execution_count": 39,
     "metadata": {},
     "output_type": "execute_result"
    }
   ],
   "source": [
    "L = apriori()\n",
    "L"
   ]
  },
  {
   "cell_type": "markdown",
   "metadata": {},
   "source": [
    "For each frequent itemsets, we generate rules from it."
   ]
  },
  {
   "cell_type": "code",
   "execution_count": 40,
   "metadata": {
    "collapsed": false
   },
   "outputs": [
    {
     "data": {
      "text/plain": [
       "[({'A'}, {'C'}),\n",
       " ({'C'}, {'A'}),\n",
       " ({'C'}, {'B'}),\n",
       " ({'B'}, {'C'}),\n",
       " ({'C'}, {'E'}),\n",
       " ({'E'}, {'C'}),\n",
       " ({'B'}, {'E'}),\n",
       " ({'E'}, {'B'}),\n",
       " ({'A', 'B'}, {'C'}),\n",
       " ({'A', 'E'}, {'C'}),\n",
       " ({'A', 'B'}, {'E'}),\n",
       " ({'A', 'E'}, {'B'}),\n",
       " ({'C'}, {'B', 'E'}),\n",
       " ({'B'}, {'C', 'E'}),\n",
       " ({'E'}, {'B', 'C'}),\n",
       " ({'B', 'C'}, {'E'}),\n",
       " ({'C', 'E'}, {'B'}),\n",
       " ({'B', 'E'}, {'C'}),\n",
       " ({'A', 'B'}, {'C', 'E'}),\n",
       " ({'A', 'E'}, {'B', 'C'}),\n",
       " ({'A', 'B', 'C'}, {'E'}),\n",
       " ({'A', 'C', 'E'}, {'B'}),\n",
       " ({'A', 'B', 'E'}, {'C'})]"
      ]
     },
     "execution_count": 40,
     "metadata": {},
     "output_type": "execute_result"
    }
   ],
   "source": [
    "cmin = 0.75\n",
    "\n",
    "[rule\n",
    "  for itemset in L\n",
    "    for rule in find_rules(itemset)]"
   ]
  },
  {
   "cell_type": "markdown",
   "metadata": {},
   "source": [
    "The Lift\n",
    "--------\n",
    "\n",
    "How can you be sure that there really is a correlation between the itemset $X$ and $Y$?\n",
    "\n",
    "Take an example from the slides:\n",
    "\n",
    "- 90% of customers buy coffee.\n",
    "- 25% of customers buy tea.\n",
    "- 20% of customers buy both.\n",
    "\n",
    "After filling Venn diagram, here's our transactions:"
   ]
  },
  {
   "cell_type": "code",
   "execution_count": 41,
   "metadata": {
    "collapsed": false
   },
   "outputs": [],
   "source": [
    "T = (\n",
    "  20 * [{'coffee', 'tea'}] +\n",
    "  70 * [{'coffee'}] +\n",
    "   5 * [{'tea'}] +\n",
    "   5 * [set()]\n",
    ")"
   ]
  },
  {
   "cell_type": "markdown",
   "metadata": {},
   "source": [
    "Given $\\{\\text{coffee}, \\text{tea}\\}$ is a frequent itemset,\n",
    "let's mine some rules!"
   ]
  },
  {
   "cell_type": "code",
   "execution_count": 42,
   "metadata": {
    "collapsed": false
   },
   "outputs": [
    {
     "data": {
      "text/plain": [
       "[({'tea'}, {'coffee'})]"
      ]
     },
     "execution_count": 42,
     "metadata": {},
     "output_type": "execute_result"
    }
   ],
   "source": [
    "rules = find_rules({'coffee', 'tea'})\n",
    "rules"
   ]
  },
  {
   "cell_type": "markdown",
   "metadata": {},
   "source": [
    "Here, we mined the rule $\\{\\text{tea}\\} \\Rightarrow \\{\\text{coffee}\\}$.\n",
    "How confident we are?"
   ]
  },
  {
   "cell_type": "code",
   "execution_count": 43,
   "metadata": {
    "collapsed": false
   },
   "outputs": [
    {
     "data": {
      "image/png": "[encoded data removed]",
      "text/latex": [
       "$$\\frac{4}{5}$$"
      ],
      "text/plain": [
       "4/5"
      ]
     },
     "execution_count": 43,
     "metadata": {},
     "output_type": "execute_result"
    }
   ],
   "source": [
    "rule = ({'tea'}, {'coffee'})\n",
    "rule_confidence(rule)"
   ]
  },
  {
   "cell_type": "markdown",
   "metadata": {},
   "source": [
    "We found that __80% of customers that buy tea also buys coffee__.\n",
    "We're highly confident, at 80 percent!\n",
    "But is 80% good?\n",
    "\n",
    "Does it really mean that the customer buys coffee _because_ they buys tea?\n",
    "To find out, let's remove the condition.\n",
    "Let's see how many people buys coffee \"no matter what:\""
   ]
  },
  {
   "cell_type": "code",
   "execution_count": 44,
   "metadata": {
    "collapsed": false
   },
   "outputs": [
    {
     "data": {
      "image/png": "[encoded data removed]",
      "text/latex": [
       "$$\\frac{9}{10}$$"
      ],
      "text/plain": [
       "9/10"
      ]
     },
     "execution_count": 44,
     "metadata": {},
     "output_type": "execute_result"
    }
   ],
   "source": [
    "rule = (set(), {'coffee'})\n",
    "rule_confidence(rule)"
   ]
  },
  {
   "cell_type": "markdown",
   "metadata": {},
   "source": [
    "This is called the unconditional, _expected confidence_.\n",
    "As you see, people who buy tea are actually less likely to buy coffee.\n",
    "This is a _negative correlation_.\n",
    "\n",
    "To quantify this correlation, we use a measure called \"lift:\"\n",
    "\n",
    "$$ L(X \\Rightarrow Y) = \\frac{c(X \\Rightarrow Y)}{c(\\varnothing \\Rightarrow Y)}$$"
   ]
  },
  {
   "cell_type": "code",
   "execution_count": 45,
   "metadata": {
    "collapsed": false
   },
   "outputs": [],
   "source": [
    "def rule_lift((x, y)):\n",
    "  return (rule_confidence((x, y))\n",
    "        / rule_confidence((set(), y)))"
   ]
  },
  {
   "cell_type": "code",
   "execution_count": 46,
   "metadata": {
    "collapsed": false
   },
   "outputs": [
    {
     "data": {
      "image/png": "[encoded data removed]",
      "text/latex": [
       "$$\\frac{8}{9}$$"
      ],
      "text/plain": [
       "8/9"
      ]
     },
     "execution_count": 46,
     "metadata": {},
     "output_type": "execute_result"
    }
   ],
   "source": [
    "rule = ({'tea'}, {'coffee'})\n",
    "rule_lift(rule)"
   ]
  },
  {
   "cell_type": "markdown",
   "metadata": {},
   "source": [
    "The \"lift\" measure tells us the correlation of the rule.\n",
    "\n",
    "- $L > 1 \\Rightarrow$ positive correlation\n",
    "- $L = 1 \\Rightarrow$ independence\n",
    "- $L < 1 \\Rightarrow$ negative correlation"
   ]
  },
  {
   "cell_type": "markdown",
   "metadata": {},
   "source": [
    "And this concludes this notebook regarding association rules and apriori algorithm."
   ]
  }
 ],
 "metadata": {
  "author": "Thai Pangsakulyanont",
  "kernelspec": {
   "display_name": "Python 2",
   "language": "python",
   "name": "python2"
  },
  "language_info": {
   "codemirror_mode": {
    "name": "ipython",
    "version": 2
   },
   "file_extension": ".py",
   "mimetype": "text/x-python",
   "name": "python",
   "nbconvert_exporter": "python",
   "pygments_lexer": "ipython2",
   "version": "2.7.8"
  }
 },
 "nbformat": 4,
 "nbformat_minor": 0
}
