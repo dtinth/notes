{
 "cells": [
  {
   "cell_type": "markdown",
   "metadata": {},
   "source": [
    "This memo is written by Thai Pangsakulyanont, based on Assoc. Prof. Kitsana Waiyamai's lecture, \"_Cluster Analysis_,\" taught in 219333 course \"Data Mining.\""
   ]
  },
  {
   "cell_type": "code",
   "execution_count": 1,
   "metadata": {
    "collapsed": false
   },
   "outputs": [],
   "source": [
    "from math import hypot\n",
    "from pylab import *"
   ]
  },
  {
   "cell_type": "code",
   "execution_count": 2,
   "metadata": {
    "collapsed": true
   },
   "outputs": [],
   "source": [
    "%matplotlib inline"
   ]
  },
  {
   "cell_type": "markdown",
   "metadata": {},
   "source": [
    "# Introduction\n",
    "\n",
    "Cluster analysis divides a set of objects into clusters with similar attributes. It's unsupervised.\n",
    "\n",
    "# K-Means Clustering\n",
    "\n",
    "Is a partitional clustering. Let's consider these objects:"
   ]
  },
  {
   "cell_type": "code",
   "execution_count": 3,
   "metadata": {
    "collapsed": false
   },
   "outputs": [],
   "source": [
    "class DataPoint:\n",
    "    def __init__(self, label, point):\n",
    "        self.label = label\n",
    "        self.point = point\n",
    "    def __repr__(self):\n",
    "        return '%s(%d,%d)' % (self.label,\n",
    "            self.point[0], self.point[1])\n",
    "\n",
    "A1 = DataPoint('A1', ( 3,  8))\n",
    "A2 = DataPoint('A2', ( 9,  4))\n",
    "A3 = DataPoint('A3', ( 4,  9))\n",
    "A4 = DataPoint('A4', ( 2,  2))\n",
    "A5 = DataPoint('A5', (10,  5))\n",
    "A6 = DataPoint('A6', ( 2,  4))\n",
    "A7 = DataPoint('A7', ( 6,  8))\n",
    "A8 = DataPoint('A8', ( 4,  3))\n",
    "A9 = DataPoint('A9', ( 4,  7))\n",
    "\n",
    "data = [A1, A2, A3, A4, A5,\n",
    "        A6, A7, A8, A9]"
   ]
  },
  {
   "cell_type": "markdown",
   "metadata": {},
   "source": [
    "Let's visualize it..."
   ]
  },
  {
   "cell_type": "code",
   "execution_count": 4,
   "metadata": {
    "collapsed": false
   },
   "outputs": [
    {
     "data": {
      "image/png": "[encoded data removed]",
      "text/plain": [
       "<matplotlib.figure.Figure at 0x10cae1e10>"
      ]
     },
     "metadata": {},
     "output_type": "display_data"
    }
   ],
   "source": [
    "def x(point): return point[0]\n",
    "def y(point): return point[1]\n",
    "\n",
    "def plot_points(points, style='o'):\n",
    "    xlim(0, 12)\n",
    "    ylim(0, 10)\n",
    "    plot([x(point) for point in points],\n",
    "         [y(point) for point in points], style)\n",
    "\n",
    "plot_points([item.point for item in data], 'kx')"
   ]
  },
  {
   "cell_type": "markdown",
   "metadata": {},
   "source": [
    "## Initial Clustering\n",
    "\n",
    "Given an \"initial\" clustering with the following \"center\"s (we can assign them arbitrarily)."
   ]
  },
  {
   "cell_type": "code",
   "execution_count": 5,
   "metadata": {
    "collapsed": false
   },
   "outputs": [
    {
     "data": {
      "image/png": "[encoded data removed]",
      "text/plain": [
       "<matplotlib.figure.Figure at 0x10cae15d0>"
      ]
     },
     "metadata": {},
     "output_type": "display_data"
    }
   ],
   "source": [
    "clusters = [\n",
    "    A1.point,\n",
    "    A4.point,\n",
    "    A7.point,\n",
    "]\n",
    "\n",
    "plot_points([item.point for item in data], 'kx')\n",
    "plot_points(clusters, 'yD')"
   ]
  },
  {
   "cell_type": "markdown",
   "metadata": {},
   "source": [
    "## Assigning Each Item to Nearest Cluster\n",
    "\n",
    "Next, we assign every item to the nearest center.\n",
    "\n",
    "For simplicity, here are some functions to help."
   ]
  },
  {
   "cell_type": "markdown",
   "metadata": {},
   "source": [
    "First, we have to find which cluster is nearest to the point."
   ]
  },
  {
   "cell_type": "code",
   "execution_count": 6,
   "metadata": {
    "collapsed": false
   },
   "outputs": [
    {
     "data": {
      "text/plain": [
       "[0, 1, 2]"
      ]
     },
     "execution_count": 6,
     "metadata": {},
     "output_type": "execute_result"
    }
   ],
   "source": [
    "def dist(a, b):\n",
    "    return math.sqrt((x(a) - x(b)) ** 2 + (y(a) - y(b)) ** 2)\n",
    "def nearest_cluster(point):\n",
    "    \"\"\"\n",
    "    Returns the index of cluster that the point\n",
    "    is nearest.\n",
    "    \"\"\"\n",
    "    distance = lambda index: dist(point, clusters[index])\n",
    "    return min(range(len(clusters)), key=distance)\n",
    "\n",
    "[nearest_cluster(A1.point),\n",
    " nearest_cluster(A4.point),\n",
    " nearest_cluster(A7.point)]"
   ]
  },
  {
   "cell_type": "markdown",
   "metadata": {
    "collapsed": false
   },
   "source": [
    "Then we apply that to each point to obtain the cluster index of each point."
   ]
  },
  {
   "cell_type": "code",
   "execution_count": 7,
   "metadata": {
    "collapsed": false
   },
   "outputs": [
    {
     "data": {
      "text/plain": [
       "[0, 2, 0, 1, 2, 1, 2, 1, 0]"
      ]
     },
     "execution_count": 7,
     "metadata": {},
     "output_type": "execute_result"
    }
   ],
   "source": [
    "def cluster():\n",
    "    return [nearest_cluster(item.point)\n",
    "        for item in data]\n",
    "\n",
    "clustering = cluster()\n",
    "clustering"
   ]
  },
  {
   "cell_type": "markdown",
   "metadata": {},
   "source": [
    "Let's visualize it. Let's see each point of each cluster."
   ]
  },
  {
   "cell_type": "code",
   "execution_count": 8,
   "metadata": {
    "collapsed": false
   },
   "outputs": [
    {
     "data": {
      "text/plain": [
       "[[A1(3,8), A3(4,9), A9(4,7)],\n",
       " [A4(2,2), A6(2,4), A8(4,3)],\n",
       " [A2(9,4), A5(10,5), A7(6,8)]]"
      ]
     },
     "execution_count": 8,
     "metadata": {},
     "output_type": "execute_result"
    }
   ],
   "source": [
    "def group_by_cluster():\n",
    "    groups = [[] for cluster in clusters]\n",
    "    for i in range(len(data)):\n",
    "        group = clustering[i]\n",
    "        groups[group].append(data[i])\n",
    "    return groups\n",
    "\n",
    "groups = group_by_cluster()\n",
    "groups"
   ]
  },
  {
   "cell_type": "code",
   "execution_count": 9,
   "metadata": {
    "collapsed": false
   },
   "outputs": [
    {
     "data": {
      "image/png": "[encoded data removed]",
      "text/plain": [
       "<matplotlib.figure.Figure at 0x10caf7c90>"
      ]
     },
     "metadata": {},
     "output_type": "display_data"
    }
   ],
   "source": [
    "def visualize():\n",
    "    colors = ['r', 'g', 'b']\n",
    "    for i in range(len(clusters)):\n",
    "        plot_points([item.point for item in groups[i]],\n",
    "                    colors[i] + 'x')\n",
    "        plot_points([clusters[i]], colors[i] + 'D')\n",
    "visualize()"
   ]
  },
  {
   "cell_type": "markdown",
   "metadata": {
    "collapsed": false
   },
   "source": [
    "## Moving the center of each cluster\n",
    "\n",
    "To do that, we have to find the means of each cluster. Let's try the red one."
   ]
  },
  {
   "cell_type": "code",
   "execution_count": 10,
   "metadata": {
    "collapsed": true
   },
   "outputs": [],
   "source": [
    "def center(group):\n",
    "    sum_x = 0.0\n",
    "    sum_y = 0.0\n",
    "    count = len(group)\n",
    "    for item in group:\n",
    "        sum_x += item.point[0]\n",
    "        sum_y += item.point[1]\n",
    "    return (sum_x / count, sum_y / count)"
   ]
  },
  {
   "cell_type": "code",
   "execution_count": 11,
   "metadata": {
    "collapsed": false
   },
   "outputs": [
    {
     "data": {
      "text/plain": [
       "(3.6666666666666665, 8.0)"
      ]
     },
     "execution_count": 11,
     "metadata": {},
     "output_type": "execute_result"
    }
   ],
   "source": [
    "center(groups[0])"
   ]
  },
  {
   "cell_type": "markdown",
   "metadata": {},
   "source": [
    "Now we move the center of every group."
   ]
  },
  {
   "cell_type": "code",
   "execution_count": 12,
   "metadata": {
    "collapsed": false
   },
   "outputs": [],
   "source": [
    "def recompute_centers():\n",
    "    return [center(group) for group in groups]\n",
    "\n",
    "clusters = recompute_centers()"
   ]
  },
  {
   "cell_type": "code",
   "execution_count": 13,
   "metadata": {
    "collapsed": false
   },
   "outputs": [
    {
     "data": {
      "image/png": "[encoded data removed]",
      "text/plain": [
       "<matplotlib.figure.Figure at 0x10cd116d0>"
      ]
     },
     "metadata": {},
     "output_type": "display_data"
    }
   ],
   "source": [
    "visualize()"
   ]
  },
  {
   "cell_type": "markdown",
   "metadata": {},
   "source": [
    "## Repeat it!"
   ]
  },
  {
   "cell_type": "code",
   "execution_count": 14,
   "metadata": {
    "collapsed": false
   },
   "outputs": [
    {
     "data": {
      "text/plain": [
       "[[A1(3,8), A3(4,9), A7(6,8), A9(4,7)],\n",
       " [A4(2,2), A6(2,4), A8(4,3)],\n",
       " [A2(9,4), A5(10,5)]]"
      ]
     },
     "execution_count": 14,
     "metadata": {},
     "output_type": "execute_result"
    }
   ],
   "source": [
    "clustering = cluster()\n",
    "groups = group_by_cluster()\n",
    "groups"
   ]
  },
  {
   "cell_type": "code",
   "execution_count": 15,
   "metadata": {
    "collapsed": false
   },
   "outputs": [
    {
     "data": {
      "image/png": "[encoded data removed]",
      "text/plain": [
       "<matplotlib.figure.Figure at 0x10ce237d0>"
      ]
     },
     "metadata": {},
     "output_type": "display_data"
    }
   ],
   "source": [
    "clusters = recompute_centers()\n",
    "visualize()"
   ]
  },
  {
   "cell_type": "markdown",
   "metadata": {},
   "source": [
    "## Again!"
   ]
  },
  {
   "cell_type": "code",
   "execution_count": 16,
   "metadata": {
    "collapsed": false
   },
   "outputs": [
    {
     "data": {
      "text/plain": [
       "[[A1(3,8), A3(4,9), A7(6,8), A9(4,7)],\n",
       " [A4(2,2), A6(2,4), A8(4,3)],\n",
       " [A2(9,4), A5(10,5)]]"
      ]
     },
     "execution_count": 16,
     "metadata": {},
     "output_type": "execute_result"
    }
   ],
   "source": [
    "clustering = cluster()\n",
    "groups = group_by_cluster()\n",
    "groups"
   ]
  },
  {
   "cell_type": "markdown",
   "metadata": {},
   "source": [
    "It seems that nothing has changed, that means the algorithm has converged."
   ]
  },
  {
   "cell_type": "code",
   "execution_count": 17,
   "metadata": {
    "collapsed": false
   },
   "outputs": [
    {
     "data": {
      "text/plain": [
       "2"
      ]
     },
     "execution_count": 17,
     "metadata": {},
     "output_type": "execute_result"
    }
   ],
   "source": [
    "1+1"
   ]
  },
  {
   "cell_type": "markdown",
   "metadata": {},
   "source": [
    "## Distance Evaluation\n",
    "\n",
    "The most common measure is the Sum of Squared Error (distance to the center)."
   ]
  },
  {
   "cell_type": "code",
   "execution_count": 18,
   "metadata": {
    "collapsed": false
   },
   "outputs": [
    {
     "data": {
      "text/plain": [
       "10.212800558824586"
      ]
     },
     "execution_count": 18,
     "metadata": {},
     "output_type": "execute_result"
    }
   ],
   "source": [
    "def sum_of_squared_error():\n",
    "    sse = 0.0\n",
    "    for i in range(len(clusters)):\n",
    "        center = clusters[i]\n",
    "        for item in groups[i]:\n",
    "            sse += dist(item.point, center)\n",
    "    return sse\n",
    "\n",
    "sum_of_squared_error()"
   ]
  },
  {
   "cell_type": "markdown",
   "metadata": {},
   "source": [
    "# Hierarchical Clustering\n",
    "\n",
    "We'll only talk about the agglomerative method, as it's the most popular method.\n",
    "First, each data item are in its own cluster."
   ]
  },
  {
   "cell_type": "code",
   "execution_count": 19,
   "metadata": {
    "collapsed": true
   },
   "outputs": [],
   "source": [
    "original_clusters = [1, 2, 3, 4, 5]\n",
    "clusters = original_clusters[:]"
   ]
  },
  {
   "cell_type": "markdown",
   "metadata": {},
   "source": [
    "When we group the data into cluster, we simply put them into an array. For example, if we want to put `1` and `2` together, it becomes:\n",
    "\n",
    "```python\n",
    "[3, 4, 5, [1, 2]]\n",
    "```"
   ]
  },
  {
   "cell_type": "markdown",
   "metadata": {},
   "source": [
    "## The proximity between items\n",
    "\n",
    "Proximity means the nearness or farness.\n",
    "So we can use either distance or similarity.\n",
    "In this example, we will use the _similarity_ metric.\n",
    "\n",
    "We define the similarity between data point $i$ and $j$ using this function:"
   ]
  },
  {
   "cell_type": "code",
   "execution_count": 20,
   "metadata": {
    "collapsed": false
   },
   "outputs": [
    {
     "name": "stdout",
     "output_type": "stream",
     "text": [
      "0.55\n",
      "0.55\n"
     ]
    }
   ],
   "source": [
    "similarity_matrix = [\n",
    "    [1.00],\n",
    "    [0.10, 1.00],\n",
    "    [0.41, 0.64, 1.00],\n",
    "    [0.55, 0.47, 0.44, 1.00],\n",
    "    [0.35, 0.98, 0.85, 0.76, 1.00],\n",
    "]\n",
    "\n",
    "def similarity(i, j):\n",
    "    i -= 1\n",
    "    j -= 1\n",
    "    if j > i: i, j = j, i\n",
    "    return similarity_matrix[i][j]\n",
    "\n",
    "print similarity(1, 4)\n",
    "print similarity(4, 1)"
   ]
  },
  {
   "cell_type": "markdown",
   "metadata": {},
   "source": [
    "Okay, it works!\n",
    "\n",
    "The next thing is that we need a way to iterate over a cluster of arbitrary complexity. We do that using Python's generator."
   ]
  },
  {
   "cell_type": "code",
   "execution_count": 21,
   "metadata": {
    "collapsed": false
   },
   "outputs": [
    {
     "name": "stdout",
     "output_type": "stream",
     "text": [
      "[1]\n",
      "[1, 2]\n",
      "[1, 3, 2]\n"
     ]
    }
   ],
   "source": [
    "def items(cluster):\n",
    "    if type(cluster) == list:\n",
    "        for item in cluster:\n",
    "            for x in items(item):\n",
    "                yield x\n",
    "    else:\n",
    "        yield cluster\n",
    "\n",
    "print [x for x in items(1)]\n",
    "print [x for x in items([1, 2])]\n",
    "print [x for x in items([[1, 3], 2])]"
   ]
  },
  {
   "cell_type": "markdown",
   "metadata": {},
   "source": [
    "## Inter-cluster distance\n",
    "\n",
    "Ok! That's great! Now we need a way to measure the similarity or distance between two clusters. There are many ways:"
   ]
  },
  {
   "cell_type": "markdown",
   "metadata": {},
   "source": [
    "### Single Linkage\n",
    "\n",
    "Single linkage is a measure between the closest point between two clusters.\n",
    "\n",
    "For similarity-based proximity, this means the maximum similarity."
   ]
  },
  {
   "cell_type": "code",
   "execution_count": 22,
   "metadata": {
    "collapsed": true
   },
   "outputs": [],
   "source": [
    "def single_linkage((a, b)):\n",
    "    return max(similarity(i, j)\n",
    "        for i in items(a) for j in items(b))"
   ]
  },
  {
   "cell_type": "code",
   "execution_count": 23,
   "metadata": {
    "collapsed": false
   },
   "outputs": [
    {
     "data": {
      "text/plain": [
       "0.55"
      ]
     },
     "execution_count": 23,
     "metadata": {},
     "output_type": "execute_result"
    }
   ],
   "source": [
    "single_linkage((1, [3, 4]))"
   ]
  },
  {
   "cell_type": "markdown",
   "metadata": {},
   "source": [
    "### Complete Linkage\n",
    "\n",
    "Complete linkage is a measure between the furthest point between two clusters.\n",
    "\n",
    "For similarity-based proximity, this means the minimum similarity."
   ]
  },
  {
   "cell_type": "code",
   "execution_count": 24,
   "metadata": {
    "collapsed": true
   },
   "outputs": [],
   "source": [
    "def complete_linkage((a, b)):\n",
    "    return min(similarity(i, j)\n",
    "        for i in items(a) for j in items(b))"
   ]
  },
  {
   "cell_type": "code",
   "execution_count": 25,
   "metadata": {
    "collapsed": false
   },
   "outputs": [
    {
     "data": {
      "text/plain": [
       "0.41"
      ]
     },
     "execution_count": 25,
     "metadata": {},
     "output_type": "execute_result"
    }
   ],
   "source": [
    "complete_linkage((1, [3, 4]))"
   ]
  },
  {
   "cell_type": "markdown",
   "metadata": {},
   "source": [
    "## Merging\n",
    "\n",
    "Now, we find two closest clusters."
   ]
  },
  {
   "cell_type": "code",
   "execution_count": 26,
   "metadata": {
    "collapsed": false
   },
   "outputs": [
    {
     "data": {
      "text/plain": [
       "(2, 5)"
      ]
     },
     "execution_count": 26,
     "metadata": {},
     "output_type": "execute_result"
    }
   ],
   "source": [
    "linkage = single_linkage\n",
    "\n",
    "def get_closest_clusters():\n",
    "    return max(((a, b)\n",
    "        for a in clusters for b in clusters if a != b),\n",
    "            key=linkage)\n",
    "\n",
    "x, y = get_closest_clusters()\n",
    "x, y"
   ]
  },
  {
   "cell_type": "markdown",
   "metadata": {},
   "source": [
    "Now we merge them."
   ]
  },
  {
   "cell_type": "code",
   "execution_count": 27,
   "metadata": {
    "collapsed": true
   },
   "outputs": [],
   "source": [
    "def merge_closest_clusters():\n",
    "    x, y = get_closest_clusters()\n",
    "    clusters.remove(x)\n",
    "    clusters.remove(y)\n",
    "    clusters.append([x, y])"
   ]
  },
  {
   "cell_type": "code",
   "execution_count": 28,
   "metadata": {
    "collapsed": false
   },
   "outputs": [
    {
     "name": "stdout",
     "output_type": "stream",
     "text": [
      "Before: [1, 2, 3, 4, 5]\n",
      "After:  [1, 3, 4, [2, 5]]\n"
     ]
    }
   ],
   "source": [
    "print \"Before:\", clusters\n",
    "merge_closest_clusters()\n",
    "print \"After: \", clusters"
   ]
  },
  {
   "cell_type": "markdown",
   "metadata": {},
   "source": [
    "We keep doing that until we reach a single cluster."
   ]
  },
  {
   "cell_type": "code",
   "execution_count": 29,
   "metadata": {
    "collapsed": false
   },
   "outputs": [
    {
     "name": "stdout",
     "output_type": "stream",
     "text": [
      "[1, 4, [3, [2, 5]]]\n",
      "[1, [4, [3, [2, 5]]]]\n",
      "[[1, [4, [3, [2, 5]]]]]\n"
     ]
    }
   ],
   "source": [
    "while len(clusters) > 1:\n",
    "    merge_closest_clusters()\n",
    "    print clusters"
   ]
  },
  {
   "cell_type": "markdown",
   "metadata": {},
   "source": [
    "And that's our final cluster!"
   ]
  },
  {
   "cell_type": "code",
   "execution_count": 30,
   "metadata": {
    "collapsed": false
   },
   "outputs": [
    {
     "data": {
      "text/plain": [
       "[1, [4, [3, [2, 5]]]]"
      ]
     },
     "execution_count": 30,
     "metadata": {},
     "output_type": "execute_result"
    }
   ],
   "source": [
    "cluster, = clusters\n",
    "cluster"
   ]
  },
  {
   "cell_type": "markdown",
   "metadata": {},
   "source": [
    "__Let's try again with complete linkage.__"
   ]
  },
  {
   "cell_type": "code",
   "execution_count": 31,
   "metadata": {
    "collapsed": false
   },
   "outputs": [
    {
     "data": {
      "text/plain": [
       "[1, 2, 3, 4, 5]"
      ]
     },
     "execution_count": 31,
     "metadata": {},
     "output_type": "execute_result"
    }
   ],
   "source": [
    "clusters = original_clusters[:]\n",
    "clusters"
   ]
  },
  {
   "cell_type": "code",
   "execution_count": 32,
   "metadata": {
    "collapsed": false
   },
   "outputs": [
    {
     "name": "stdout",
     "output_type": "stream",
     "text": [
      "[1, 3, 4, [2, 5]]\n",
      "[1, 4, [3, [2, 5]]]\n",
      "[[3, [2, 5]], [1, 4]]\n",
      "[[[3, [2, 5]], [1, 4]]]\n"
     ]
    }
   ],
   "source": [
    "linkage = complete_linkage\n",
    "while len(clusters) > 1:\n",
    "    merge_closest_clusters()\n",
    "    print clusters"
   ]
  },
  {
   "cell_type": "code",
   "execution_count": 33,
   "metadata": {
    "collapsed": false
   },
   "outputs": [
    {
     "data": {
      "text/plain": [
       "[[3, [2, 5]], [1, 4]]"
      ]
     },
     "execution_count": 33,
     "metadata": {},
     "output_type": "execute_result"
    }
   ],
   "source": [
    "cluster, = clusters\n",
    "cluster"
   ]
  },
  {
   "cell_type": "markdown",
   "metadata": {},
   "source": [
    "And that's it!"
   ]
  },
  {
   "cell_type": "markdown",
   "metadata": {},
   "source": [
    "# Validation\n",
    "\n",
    "Now that we grouped items into clusters, here's how to validate them.\n",
    "\n",
    "## Interpretability\n",
    "\n",
    "- Compare the segment to the population to identify patterns.\n",
    "- Then you can assign meaningful labels to each cluster.\n",
    "\n",
    "## Accuracy\n",
    "\n",
    "- Requires some existing labels.\n",
    "- Using accuracy, precision, recall.\n",
    "\n",
    "## Separation\n",
    "\n",
    "- Ratio of between-cluster variation to within-cluster variation."
   ]
  }
 ],
 "metadata": {
  "kernelspec": {
   "display_name": "Python 2",
   "language": "python",
   "name": "python2"
  },
  "language_info": {
   "codemirror_mode": {
    "name": "ipython",
    "version": 2
   },
   "file_extension": ".py",
   "mimetype": "text/x-python",
   "name": "python",
   "nbconvert_exporter": "python",
   "pygments_lexer": "ipython2",
   "version": "2.7.8"
  }
 },
 "nbformat": 4,
 "nbformat_minor": 0
}
